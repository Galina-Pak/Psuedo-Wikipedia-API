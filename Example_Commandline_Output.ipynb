{
 "cells": [
  {
   "cell_type": "markdown",
   "metadata": {},
   "source": [
    "This Notebook Shows Example Output for Each Pipeline of the project"
   ]
  },
  {
   "cell_type": "markdown",
   "metadata": {},
   "source": [
    "# 1. Download"
   ]
  },
  {
   "cell_type": "code",
   "execution_count": 1,
   "metadata": {
    "collapsed": false
   },
   "outputs": [
    {
     "name": "stdout",
     "output_type": "stream",
     "text": [
      "********** uploaded categories ['Earth sciences'] **********\n",
      "************** uploaded all pages *************\n"
     ]
    }
   ],
   "source": [
    "!./download.py 'Earth sciences'"
   ]
  },
  {
   "cell_type": "code",
   "execution_count": 4,
   "metadata": {
    "collapsed": false
   },
   "outputs": [
    {
     "name": "stdout",
     "output_type": "stream",
     "text": [
      "********** uploaded categories ['Earth sciences', 'Influenza'] **********\n",
      "************** uploaded all pages *************\n"
     ]
    }
   ],
   "source": [
    "!./download.py '/Users/Scott/dsi/DSI_Workspace/project-06/config/category.yml'"
   ]
  },
  {
   "cell_type": "markdown",
   "metadata": {},
   "source": [
    "# 2. Search"
   ]
  },
  {
   "cell_type": "code",
   "execution_count": 5,
   "metadata": {
    "collapsed": false
   },
   "outputs": [
    {
     "name": "stdout",
     "output_type": "stream",
     "text": [
      " \r\n",
      "Outline of Earth sciences : The following outline is provided as an overview of and topical guide to Earth science: Earth science – all-embracing term for the sciences related to the planet Earth. It is also known as geoscience, the geosciences or the Earth sciences, and is arguably a special case in planetary science, the Earth being the only known life-bearing planet\r\n",
      " \r\n",
      "Earth Science Week : Since October 1998, the American Geosciences Institute (AGI) has organized this national and international event to help the public gain a better understanding and appreciation for the Earth Sciences and to encourage stewardship of the Earth. Traditionally held in the second full week of October, Earth Science Week encourages the understanding and promotion of earth science at local, state, national and international levels\r\n",
      " \r\n",
      "Earth science : Earth science or geoscience is a widely embraced term for the fields of science related to the planet Earth. Earth science can be considered to be a branch of planetary science, but with a much older history\r\n",
      " \r\n",
      "List of unsolved problems in geoscience : This article discusses currently unsolved problems in geoscience. The early Earth and the solar system How did Earth and other planets form? Were planets formed in situ? Or are orbital changes relatively frequent? What determined the different deep layering of the solar planets? Was there ever a collision of the Earth with another planet Theia, giving birth to our satellite? There is compelling evidence, such as measures of a shorter duration of the Earths rotation and lunar month in the past, pointing to a Moon much closer to Earth during the early stages of the Solar System\r\n",
      " \r\n",
      "Solid Earth : Solid Earth refers to \"the Earth beneath our feet\" or terra firma, the planets solid surface and its interior. It contrasts with the Earths fluid envelopes, the atmosphere and hydrosphere (but includes the ocean basin), as well as the biosphere and interactions with the sun\r\n"
     ]
    }
   ],
   "source": [
    "!./search.py \"geophysics is the study of the physical processes on earth and other planets\""
   ]
  },
  {
   "cell_type": "markdown",
   "metadata": {},
   "source": [
    "# 3. Train"
   ]
  },
  {
   "cell_type": "code",
   "execution_count": 11,
   "metadata": {
    "collapsed": false
   },
   "outputs": [
    {
     "name": "stdout",
     "output_type": "stream",
     "text": [
      "pickles made\r\n"
     ]
    }
   ],
   "source": [
    "!./train.py"
   ]
  },
  {
   "cell_type": "markdown",
   "metadata": {},
   "source": [
    "# 4. Predict"
   ]
  },
  {
   "cell_type": "code",
   "execution_count": 14,
   "metadata": {
    "collapsed": false
   },
   "outputs": [
    {
     "name": "stdout",
     "output_type": "stream",
     "text": [
      "The predicted category is: Earth sciences with similarity score: 68.1049046231 percent.\r\n",
      "This is 49.4564039168 precent higher than the next closest category: chemistry .\r\n"
     ]
    }
   ],
   "source": [
    "!./predict.py '20653168' \"Earth science\""
   ]
  }
 ],
 "metadata": {
  "anaconda-cloud": {},
  "kernelspec": {
   "display_name": "Python [conda root]",
   "language": "python",
   "name": "conda-root-py"
  },
  "language_info": {
   "codemirror_mode": {
    "name": "ipython",
    "version": 2
   },
   "file_extension": ".py",
   "mimetype": "text/x-python",
   "name": "python",
   "nbconvert_exporter": "python",
   "pygments_lexer": "ipython2",
   "version": "2.7.12"
  }
 },
 "nbformat": 4,
 "nbformat_minor": 1
}
